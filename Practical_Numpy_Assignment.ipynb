{
  "nbformat": 4,
  "nbformat_minor": 0,
  "metadata": {
    "colab": {
      "provenance": [],
      "authorship_tag": "ABX9TyPzyUInVenOjhqXz8myOyhA",
      "include_colab_link": true
    },
    "kernelspec": {
      "name": "python3",
      "display_name": "Python 3"
    },
    "language_info": {
      "name": "python"
    }
  },
  "cells": [
    {
      "cell_type": "markdown",
      "metadata": {
        "id": "view-in-github",
        "colab_type": "text"
      },
      "source": [
        "<a href=\"https://colab.research.google.com/github/MDTanveerAlam1/Numpy_Assignment/blob/main/Practical_Numpy_Assignment.ipynb\" target=\"_parent\"><img src=\"https://colab.research.google.com/assets/colab-badge.svg\" alt=\"Open In Colab\"/></a>"
      ]
    },
    {
      "cell_type": "markdown",
      "source": [
        "Practical Solution Numpy assignment"
      ],
      "metadata": {
        "id": "jtU9JTh_Cbcd"
      }
    },
    {
      "cell_type": "code",
      "source": [
        "# Question Number 1\n",
        "# Create a 3x3 NumPy array with random integers between 1 and 100. Then, interchange its rows and columns.\n",
        "#  >>>   Answer   <<<\n",
        "\n",
        "import numpy as np\n",
        "\n",
        "# --> 3x3 NumPy array with random integers between 1 and 100 >>\n",
        "array = np.random.randint(1, 101, size=(3, 3))\n",
        "\n",
        "# Interchange rows and columns using array transpose >>>\n",
        "interchanged_array = array.transpose()\n",
        "\n",
        "print(\"Original Array:\")\n",
        "print(array)\n",
        "print(\"Interchanged Array:\")\n",
        "print(interchanged_array)"
      ],
      "metadata": {
        "colab": {
          "base_uri": "https://localhost:8080/"
        },
        "id": "RjHn2RSkCjWt",
        "outputId": "3c66d724-fcba-425c-ac36-eab448e1a318"
      },
      "execution_count": 15,
      "outputs": [
        {
          "output_type": "stream",
          "name": "stdout",
          "text": [
            "Original Array:\n",
            "[[54 63 12]\n",
            " [64 41 98]\n",
            " [26 95 32]]\n",
            "Interchanged Array:\n",
            "[[54 64 26]\n",
            " [63 41 95]\n",
            " [12 98 32]]\n"
          ]
        }
      ]
    },
    {
      "cell_type": "code",
      "source": [
        "# Question Number 2\n",
        "#  Generate a 1D NumPy array with 10 elements. Reshape it into a 2x5 array, then into a 5x2 array.\n",
        "#  >>>   Answer   <<<\n",
        "\n",
        "import numpy as np\n",
        "# 1D NumPy array with 10 elements\n",
        "array_1d = np.arange(10)\n",
        "\n",
        "# Reshape it into a 2x5 array\n",
        "array_2x5 = array_1d.reshape(2, 5)\n",
        "\n",
        "# Reshape it into a 5x2 array\n",
        "array_5x2 = array_1d.reshape(5, 2)\n",
        "\n",
        "print(\"Original 1D Array:\")\n",
        "print(array_1d)\n",
        "print(\"Reshaped 2x5 Array:\")\n",
        "print(array_2x5)\n",
        "print(\"Reshaped 5x2 Array:\")\n",
        "print(array_5x2)"
      ],
      "metadata": {
        "colab": {
          "base_uri": "https://localhost:8080/"
        },
        "id": "cR6n8JyaC6F1",
        "outputId": "94641aa9-863d-4323-f0c7-f729d3625a5e"
      },
      "execution_count": 17,
      "outputs": [
        {
          "output_type": "stream",
          "name": "stdout",
          "text": [
            "Original 1D Array:\n",
            "[0 1 2 3 4 5 6 7 8 9]\n",
            "Reshaped 2x5 Array:\n",
            "[[0 1 2 3 4]\n",
            " [5 6 7 8 9]]\n",
            "Reshaped 5x2 Array:\n",
            "[[0 1]\n",
            " [2 3]\n",
            " [4 5]\n",
            " [6 7]\n",
            " [8 9]]\n"
          ]
        }
      ]
    },
    {
      "cell_type": "code",
      "source": [
        "# Question Number 3\n",
        "# Create a 4x4 NumPy array with random float values. Add a border of zeros around it, resulting in a 6x6 array\n",
        "#  >>>   Answer   <<<\n",
        "\n",
        "import numpy as np\n",
        "# Create a 4x4 NumPy array with random float values >>\n",
        "array_4x4 = np.random.rand(4, 4)\n",
        "\n",
        "# Create a 6x6 array filled with zeros >>>\n",
        "array_6x6 = np.zeros((6, 6))\n",
        "\n",
        "# Insert the 4x4 array into the center of the 6x6 array >>>\n",
        "array_6x6[1:5, 1:5] = array_4x4\n",
        "\n",
        "print(\"Original 4x4 Array:\")\n",
        "print(array_4x4)\n",
        "print(\"6x6 Array with Zero Border:\")\n",
        "print(array_6x6)"
      ],
      "metadata": {
        "colab": {
          "base_uri": "https://localhost:8080/"
        },
        "id": "-moV1-DlDNUc",
        "outputId": "fdb2158d-3d17-4317-a7d5-234cccaf2639"
      },
      "execution_count": 22,
      "outputs": [
        {
          "output_type": "stream",
          "name": "stdout",
          "text": [
            "Original 4x4 Array:\n",
            "[[0.24001313 0.74733973 0.71708214 0.66081822]\n",
            " [0.14937322 0.62571483 0.32794743 0.99689718]\n",
            " [0.92119146 0.92393434 0.40237873 0.00428615]\n",
            " [0.98861807 0.28630327 0.62884968 0.9182215 ]]\n",
            "6x6 Array with Zero Border:\n",
            "[[0.         0.         0.         0.         0.         0.        ]\n",
            " [0.         0.24001313 0.74733973 0.71708214 0.66081822 0.        ]\n",
            " [0.         0.14937322 0.62571483 0.32794743 0.99689718 0.        ]\n",
            " [0.         0.92119146 0.92393434 0.40237873 0.00428615 0.        ]\n",
            " [0.         0.98861807 0.28630327 0.62884968 0.9182215  0.        ]\n",
            " [0.         0.         0.         0.         0.         0.        ]]\n"
          ]
        }
      ]
    },
    {
      "cell_type": "code",
      "source": [
        "# Question Number 4\n",
        "# Using NumPy, create an array of integers from 10 to 60 with a step of 5.\n",
        "#  >>>   Answer   <<<\n",
        "\n",
        "import numpy as np\n",
        "\n",
        "# Create an array of integers from 10 to 60 with a step of 5\n",
        "array = np.arange(10, 61, 5)\n",
        "\n",
        "print(array)"
      ],
      "metadata": {
        "colab": {
          "base_uri": "https://localhost:8080/"
        },
        "id": "Ayj4GqtbDTLo",
        "outputId": "18970b6c-1570-4b91-c864-e110cf892cb7"
      },
      "execution_count": 21,
      "outputs": [
        {
          "output_type": "stream",
          "name": "stdout",
          "text": [
            "[10 15 20 25 30 35 40 45 50 55 60]\n"
          ]
        }
      ]
    },
    {
      "cell_type": "code",
      "source": [
        "# Question Number 5\n",
        "# Create a NumPy array of strings ['python', 'numpy', 'pandas']. Apply different case transformations (uppercase, lowercase, title case, etc.) to each element.\n",
        "#  >>>   Answer   <<<\n",
        "\n",
        "import numpy as np\n",
        "\n",
        "# >>>  Create a NumPy array of strings\n",
        "strings_array = np.array(['python', 'numpy', 'pandas'])\n",
        "\n",
        "# >>>  Apply different case transformations\n",
        "uppercase_array = np.char.upper(strings_array)\n",
        "lowercase_array = np.char.lower(strings_array)\n",
        "titlecase_array = np.char.title(strings_array)\n",
        "\n",
        "print(\"Original Array:\", strings_array)\n",
        "print(\"Uppercase Array:\", uppercase_array)\n",
        "print(\"Lowercase Array:\", lowercase_array)\n",
        "print(\"Titlecase Array:\", titlecase_array)"
      ],
      "metadata": {
        "colab": {
          "base_uri": "https://localhost:8080/"
        },
        "id": "m-EcZNXLDTue",
        "outputId": "c9cc7691-4d2c-4481-a93c-b7018c04ad01"
      },
      "execution_count": 23,
      "outputs": [
        {
          "output_type": "stream",
          "name": "stdout",
          "text": [
            "Original Array: ['python' 'numpy' 'pandas']\n",
            "Uppercase Array: ['PYTHON' 'NUMPY' 'PANDAS']\n",
            "Lowercase Array: ['python' 'numpy' 'pandas']\n",
            "Titlecase Array: ['Python' 'Numpy' 'Pandas']\n"
          ]
        }
      ]
    },
    {
      "cell_type": "code",
      "source": [
        "# Question Number 6\n",
        "# Generate a NumPy array of words. Insert a space between each character of every word in the array\n",
        "#  >>>   Answer   <<<\n",
        "\n",
        "import numpy as np\n",
        "\n",
        "# Generate a NumPy array of words\n",
        "words_array = np.array(['MD', 'Tanveer', 'Alam'])\n",
        "\n",
        "# Insert a space between each character of every word\n",
        "spaced_words_array = np.char.join(' ', words_array)\n",
        "\n",
        "print(spaced_words_array)"
      ],
      "metadata": {
        "colab": {
          "base_uri": "https://localhost:8080/"
        },
        "id": "D7ji4NoZDUG_",
        "outputId": "927feccd-9a4b-410f-a08a-cc3962cdf914"
      },
      "execution_count": 26,
      "outputs": [
        {
          "output_type": "stream",
          "name": "stdout",
          "text": [
            "['M D' 'T a n v e e r' 'A l a m']\n"
          ]
        }
      ]
    },
    {
      "cell_type": "code",
      "source": [
        "# Question Number 7\n",
        "# Create two 2D NumPy arrays and perform element-wise addition, subtraction, multiplication, and division.\n",
        "#  >>>   Answer   <<<\n",
        "\n",
        "import numpy as np\n",
        "\n",
        "# Create two 2D NumPy arrays\n",
        "array1 = np.array([[1, 2], [3, 4]])\n",
        "array2 = np.array([[5, 6], [7, 8]])\n",
        "\n",
        "# >>Element-wise addition\n",
        "addition_result = array1 + array2\n",
        "print(\"Element-wise Addition:\")\n",
        "print(addition_result)\n",
        "\n",
        "# >> Element-wise subtraction\n",
        "subtraction_result = array1 - array2\n",
        "print(\"Element-wise Subtraction:\")\n",
        "print(subtraction_result)\n",
        "\n",
        "# >>Element-wise multiplication\n",
        "multiplication_result = array1 * array2\n",
        "print(\"Element-wise Multiplication:\")\n",
        "print(multiplication_result)\n",
        "\n",
        "# >>Element-wise division\n",
        "division_result = array1 / array2\n",
        "print(\"Element-wise Division:\")\n",
        "print(division_result)"
      ],
      "metadata": {
        "colab": {
          "base_uri": "https://localhost:8080/"
        },
        "id": "EUPQoU5VDUkA",
        "outputId": "e3e55c89-957f-4e4a-ff80-cb06179e8b2b"
      },
      "execution_count": 28,
      "outputs": [
        {
          "output_type": "stream",
          "name": "stdout",
          "text": [
            "Element-wise Addition:\n",
            "[[ 6  8]\n",
            " [10 12]]\n",
            "Element-wise Subtraction:\n",
            "[[-4 -4]\n",
            " [-4 -4]]\n",
            "Element-wise Multiplication:\n",
            "[[ 5 12]\n",
            " [21 32]]\n",
            "Element-wise Division:\n",
            "[[0.2        0.33333333]\n",
            " [0.42857143 0.5       ]]\n"
          ]
        }
      ]
    },
    {
      "cell_type": "code",
      "source": [
        "# Question Number 8\n",
        "# Use NumPy to create a 5x5 identity matrix, then extract its diagonal elements\n",
        "#  >>>   Answer   <<<\n",
        "\n",
        "# Create a 5x5 identity matrix -->>\n",
        "identity_matrix = np.identity(5)\n",
        "\n",
        "# Extract the diagonal elements -->>\n",
        "diagonal_elements = np.diag(identity_matrix)\n",
        "\n",
        "print(\"5x5 Identity Matrix:\")\n",
        "print(identity_matrix)\n",
        "print(\"Diagonal Elements:\")\n",
        "print(diagonal_elements)"
      ],
      "metadata": {
        "colab": {
          "base_uri": "https://localhost:8080/"
        },
        "id": "J3HutFT6DVAJ",
        "outputId": "79412a75-c122-4bad-fbad-3115bbba99bc"
      },
      "execution_count": 29,
      "outputs": [
        {
          "output_type": "stream",
          "name": "stdout",
          "text": [
            "5x5 Identity Matrix:\n",
            "[[1. 0. 0. 0. 0.]\n",
            " [0. 1. 0. 0. 0.]\n",
            " [0. 0. 1. 0. 0.]\n",
            " [0. 0. 0. 1. 0.]\n",
            " [0. 0. 0. 0. 1.]]\n",
            "Diagonal Elements:\n",
            "[1. 1. 1. 1. 1.]\n"
          ]
        }
      ]
    },
    {
      "cell_type": "code",
      "source": [
        "# Question Number 9\n",
        "# Generate a NumPy array of 100 random integers between 0 and 1000. Find and display all prime numbers in this array\n",
        "#  >>>   Answer   <<<\n",
        "\n",
        "import numpy as np\n",
        "\n",
        "# Function to check if a number is prime\n",
        "def is_prime(n):\n",
        "    if n <= 1:\n",
        "        return False\n",
        "    for i in range(2, int(n**0.5) + 1):\n",
        "        if n % i == 0:\n",
        "            return False\n",
        "    return True\n",
        "\n",
        "# a NumPy array of 100 random integers between 0 and 1000\n",
        "random_array = np.random.randint(0, 1001, 100)\n",
        "\n",
        "# Find and display all prime numbers in the array\n",
        "prime_numbers = [num for num in random_array if is_prime(num)]\n",
        "\n",
        "print(\"Random Array of 100 Integers:\")\n",
        "print(random_array)\n",
        "print(\"Prime Numbers in the Array:\")\n",
        "print(prime_numbers)\n",
        "\n",
        "# this question >> i solved in approx 45 min"
      ],
      "metadata": {
        "colab": {
          "base_uri": "https://localhost:8080/"
        },
        "id": "5Pjqwp7MDVY9",
        "outputId": "e55e5363-9373-4756-9d93-a720d22d36ab"
      },
      "execution_count": 30,
      "outputs": [
        {
          "output_type": "stream",
          "name": "stdout",
          "text": [
            "Random Array of 100 Integers:\n",
            "[ 606  715  768  904  188  996  275  737  566  111  661  137  817  120\n",
            "   75  342  825  768  842  666  311  951  313   82  695  924   15  612\n",
            "  506  784  573  322  418  167  256  424   94  574  197  769  535  685\n",
            "  776  750  317  219  459  173   92   35  908  154  896  601  988  674\n",
            "  872  925   44  875  246  243  757  752   29   27  176  503  952  236\n",
            "  518  723  994  293  236  435  435  219    1  300  801  417  505  573\n",
            "  681  758  427  544  498  657  990  632  598  105  559  229  149 1000\n",
            "  663  397]\n",
            "Prime Numbers in the Array:\n",
            "[661, 137, 311, 313, 167, 197, 769, 317, 173, 601, 757, 29, 503, 293, 229, 149, 397]\n"
          ]
        }
      ]
    },
    {
      "cell_type": "code",
      "source": [
        "# Question Number 10\n",
        "#. Create a NumPy array representing daily temperatures for a month. Calculate and display the weekly averages\n",
        "#  >>>   Answer   <<<\n",
        "\n",
        "import numpy as np\n",
        "\n",
        "# a NumPy array representing daily temperatures for a month\n",
        "daily_temperatures = np.random.randint(15, 35, 30)\n",
        "\n",
        "# Calculate weekly averages using list comprehension\n",
        "weekly_averages = [np.mean(daily_temperatures[i:i+7]) for i in range(0, 30, 7)]\n",
        "\n",
        "print(\"Daily Temperatures:\")\n",
        "print(daily_temperatures)\n",
        "print(\"\\nWeekly Averages:\")\n",
        "print(weekly_averages)"
      ],
      "metadata": {
        "colab": {
          "base_uri": "https://localhost:8080/"
        },
        "id": "C83g5XzMDV7k",
        "outputId": "631a38da-a8ff-499f-eb75-20dad432e5ec"
      },
      "execution_count": 33,
      "outputs": [
        {
          "output_type": "stream",
          "name": "stdout",
          "text": [
            "Daily Temperatures:\n",
            "[29 16 26 15 29 20 15 24 33 34 25 16 16 30 21 29 29 27 22 24 20 32 32 22\n",
            " 23 17 23 28 16 23]\n",
            "\n",
            "Weekly Averages:\n",
            "[21.428571428571427, 25.428571428571427, 24.571428571428573, 25.285714285714285, 19.5]\n"
          ]
        }
      ]
    }
  ]
}