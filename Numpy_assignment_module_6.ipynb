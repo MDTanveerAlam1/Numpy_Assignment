{
  "nbformat": 4,
  "nbformat_minor": 0,
  "metadata": {
    "colab": {
      "provenance": [],
      "authorship_tag": "ABX9TyOq52nxwa0soC9BRb6shk5f",
      "include_colab_link": true
    },
    "kernelspec": {
      "name": "python3",
      "display_name": "Python 3"
    },
    "language_info": {
      "name": "python"
    }
  },
  "cells": [
    {
      "cell_type": "markdown",
      "metadata": {
        "id": "view-in-github",
        "colab_type": "text"
      },
      "source": [
        "<a href=\"https://colab.research.google.com/github/MDTanveerAlam1/Numpy_Assignment/blob/main/Numpy_assignment_module_6.ipynb\" target=\"_parent\"><img src=\"https://colab.research.google.com/assets/colab-badge.svg\" alt=\"Open In Colab\"/></a>"
      ]
    },
    {
      "cell_type": "code",
      "execution_count": 7,
      "metadata": {
        "id": "BiGmyUwh5jWg"
      },
      "outputs": [],
      "source": [
        "# >>> Question number 1\n",
        "# Explain the purpose and advantages of NumPy in scientific computing and data analysis. How does it enhance Python's capabilities for numerical operations?\n",
        "# >> Answer\n",
        "\n",
        "\n",
        "# Purpose of NumPy >>\n",
        "\n",
        "#NumPy is a powerful library in Python used for scientific computing and data analysis.\n",
        "#It provides support for large, multi-dimensional arrays and matrices, along with a collection of mathematical functions to operate on these arrays efficiently.\n",
        "\n",
        "# Advantages of NumPy >>\n",
        "\n",
        "# 1. Efficient Array Operations --> NumPy allows you to perform operations on entire arrays without writing loops, making your code cleaner and faster.\n",
        "\n",
        "# 2. Speed -->  NumPy is much faster than Python lists because it uses optimized C code behind the scenes.\n",
        "# 3 Memory Efficiency --> NumPy arrays consume less memory compared to Python lists, which is crucial when working with large datasets.\n",
        "\n",
        "# 4. Mathematical Functions --> It includes a wide range of mathematical functions, such as linear algebra, statistics, and random number generation.\n",
        "\n",
        "# 5. Integration --> NumPy integrates well with other libraries like Pandas, Matplotlib, and SciPy, which are essential for data analysis and visualization.\n",
        "\n",
        "# Enhancing Python's Capabilities >>\n",
        "\n",
        "# 1 Vectorization --> NumPy allows you to apply operations to entire arrays at once, rather than iterating through elements one by one. This is called vectorization and it significantly speeds up computations.\n",
        "# 2 Broadcasting --> This feature lets you perform arithmetic operations on arrays of different shapes and sizes without needing to manually reshape them."
      ]
    },
    {
      "cell_type": "code",
      "source": [
        "# >>> Question Number 2\n",
        "# Compare and contrast np.mean() and np.average() functions in NumPy. When would you use one over the other?\n",
        "# >> Answer\n",
        "\n",
        "# np.mean() and np.average() are both used to calculate the average of an array, but they differ in how they handle weights.\n",
        "\n",
        "# np.mean()\n",
        "# - Calculates the arithmetic mean of an array.\n",
        "# - It doesn't take any weights into account.\n",
        "# - It's faster than np.average().\n",
        "\n",
        "# np.average()\n",
        "# - Calculates the weighted average of an array.\n",
        "# - It allows you to specify weights for each element in the array.\n",
        "# - It's slower than np.mean() because it performs additional computations to handle the weights.\n",
        "\n",
        "# When to use np.mean()\n",
        "# - When you want to calculate the simple average of an array without considering any weights.\n",
        "# - When performance is critical.\n",
        "\n",
        "# When to use np.average()\n",
        "# - When you want to calculate the weighted average of an array.\n",
        "# - When you need more control over how the average is computed, such as specifying custom weights.\n",
        "\n",
        "\n",
        "# Example\n",
        "import numpy as np\n",
        "\n",
        "arr = np.array([1, 2, 3, 4, 5])\n",
        "weights = np.array([0.1, 0.2, 0.3, 0.2, 0.2])\n",
        "\n",
        "mean = np.mean(arr)\n",
        "weighted_average = np.average(arr, weights=weights)\n",
        "\n",
        "print(\"Mean:\", mean)\n",
        "print(\"Weighted Average:\", weighted_average)\n"
      ],
      "metadata": {
        "id": "FLz5If968C9e",
        "colab": {
          "base_uri": "https://localhost:8080/"
        },
        "outputId": "b8d4df0a-4307-4c59-93a5-0f8de13d6499"
      },
      "execution_count": 9,
      "outputs": [
        {
          "output_type": "stream",
          "name": "stdout",
          "text": [
            "Mean: 3.0\n",
            "Weighted Average: 3.2\n"
          ]
        }
      ]
    },
    {
      "cell_type": "code",
      "source": [
        "# >>> Question Number 3\n",
        "# Describe the methods for reversing a NumPy array along different axes. Provide examples for 1D and 2D arrays\n",
        "# >> Answer\n",
        "\n",
        "import numpy as np\n",
        "\n",
        "# Reversing a 1D array\n",
        "arr_1d = np.array([1, 2, 3, 4, 5])\n",
        "reversed_arr_1d = np.flip(arr_1d)\n",
        "print(\"Original 1D array:\", arr_1d)\n",
        "print(\"Reversed 1D array:\", reversed_arr_1d)\n",
        "\n",
        "# Reversing a 2D array along different axes\n",
        "arr_2d = np.array([[1, 2, 3], [4, 5, 6], [7, 8, 9]])\n",
        "reversed_arr_2d_axis0 = np.flip(arr_2d, axis=0)  # Reverses rows\n",
        "reversed_arr_2d_axis1 = np.flip(arr_2d, axis=1)  # Reverses columns\n",
        "\n",
        "print(\"\\nOriginal 2D array:\\n\", arr_2d)\n",
        "print(\"\\nReversed 2D array along axis 0:\\n\", reversed_arr_2d_axis0)\n",
        "print(\"\\nReversed 2D array along axis 1:\\n\", reversed_arr_2d_axis1)"
      ],
      "metadata": {
        "id": "W8zr1cx_81RA",
        "colab": {
          "base_uri": "https://localhost:8080/"
        },
        "outputId": "b627679f-e898-419e-9477-cffd40571f0a"
      },
      "execution_count": 10,
      "outputs": [
        {
          "output_type": "stream",
          "name": "stdout",
          "text": [
            "Original 1D array: [1 2 3 4 5]\n",
            "Reversed 1D array: [5 4 3 2 1]\n",
            "\n",
            "Original 2D array:\n",
            " [[1 2 3]\n",
            " [4 5 6]\n",
            " [7 8 9]]\n",
            "\n",
            "Reversed 2D array along axis 0:\n",
            " [[7 8 9]\n",
            " [4 5 6]\n",
            " [1 2 3]]\n",
            "\n",
            "Reversed 2D array along axis 1:\n",
            " [[3 2 1]\n",
            " [6 5 4]\n",
            " [9 8 7]]\n"
          ]
        }
      ]
    },
    {
      "cell_type": "code",
      "source": [
        "# >>> Question Number 4\n",
        "#  How can you determine the data type of elements in a NumPy array? Discuss the importance of data types in memory management and performance\n",
        "# >> Answer\n",
        "\n",
        "import numpy as np\n",
        "arr = np.array([1, 2, 3, 4, 5])\n",
        "data_type = arr.dtype\n",
        "print(\"Data type of the array:\", data_type)\n",
        "\n",
        "# Importance of Data Types in Memory Management and Performance -->>\n",
        "\n",
        "# 1. Memory Management >\n",
        "#    - Different data types occupy different amounts of memory. For example, an integer (int) takes up less memory than a floating-point number (float).\n",
        "#    - By choosing the appropriate data type for your array, you can optimize memory usage, especially when working with large datasets.\n",
        "\n",
        "# 2. Performance >>\n",
        "#    - The data type also influences the performance of operations on the array.\n",
        "#    - NumPy is optimized to perform operations on arrays with homogeneous data types efficiently.\n",
        "#    - When using the correct data type, you can achieve better performance for numerical calculations.\n",
        "\n",
        "\n",
        "# Example >>\n",
        "# If you have an array that only contains integers, but you use a floating-point data type,\n",
        "# it will consume more memory than necessary, and computations might be slower\n",
        "# than if you had used an integer data type."
      ],
      "metadata": {
        "id": "IM9Aq5L88-UN",
        "colab": {
          "base_uri": "https://localhost:8080/"
        },
        "outputId": "9182885c-7630-46a2-cd6e-0427a6579db4"
      },
      "execution_count": 11,
      "outputs": [
        {
          "output_type": "stream",
          "name": "stdout",
          "text": [
            "Data type of the array: int64\n"
          ]
        }
      ]
    },
    {
      "cell_type": "code",
      "source": [
        "# >>> Question Number 5\n",
        "# Define ndarrays in NumPy and explain their key features. How do they differ from standard Python lists?\n",
        "# >> Answer\n",
        "\n",
        "# ndarrays in NumPy (N-dimensional arrays)\n",
        "\n",
        "# Definition -->>>\n",
        "# - ndarrays are multi-dimensional arrays that form the core of NumPy.\n",
        "# - They are homogeneous, meaning they contain elements of the same data type.\n",
        "# - They are mutable, which means you can change their contents after creation.\n",
        "\n",
        "\n",
        "# Key Features -->\n",
        "\n",
        "# 1. Homogeneity: All elements within an ndarray must have the same data type. This allows NumPy to optimize memory usage and calculations.\n",
        "# 2. Shape and Dimensionality: ndarrays have a shape that defines their dimensions (e.g., a 2x3 array has 2 rows and 3 columns).\n",
        "# 3. Data Type: Each ndarray has a data type that specifies the type of elements it holds (e.g., int, float, complex).\n",
        "# 4. Vectorized Operations: NumPy provides functions that allow you to perform operations on entire arrays without writing loops, making your code faster and easier to read.\n",
        "# 5. Broadcasting: NumPy allows you to perform operations on arrays of different shapes and sizes, making it easier to manipulate data.\n",
        "\n",
        "\n",
        "# Differences from Standard Python Lists -->>\n",
        "\n",
        "# 1. Homogeneity vs. Heterogeneity>>\n",
        "#   - ndarrays are homogeneous (same data type) while Python lists can hold elements of different data types.\n",
        "# 2. Performance >>\n",
        "#   - ndarrays are significantly faster for numerical operations due to their optimized internal structure and vectorized operations.\n",
        "# 3. Functionality >\n",
        "#   - NumPy provides a wider range of mathematical functions and tools for working with arrays than standard Python lists.\n",
        "# 4. Memory Usage >>\n",
        "#   - NumPy arrays are generally more memory-efficient than Python lists because they store data in a contiguous block of memory.\n",
        "# 5. Vectorization and Broadcasting >>\n",
        "#   - These features, only available in ndarrays, allow you to perform element-wise operations and manipulate arrays of different shapes efficiently.\n",
        "\n",
        "\n",
        "# Code >>\n",
        "import numpy as np\n",
        "list_data = [1, 2.5, 'hello'] # Python list (heterogeneous)\n",
        "\n",
        "array_data = np.array([1, 2, 3, 4, 5]) # NumPy ndarray (homogeneous)"
      ],
      "metadata": {
        "id": "nleQdRPN8-7C"
      },
      "execution_count": 12,
      "outputs": []
    },
    {
      "cell_type": "code",
      "source": [
        "# >>> Question Number 6\n",
        "#  Analyze the performance benefits of NumPy arrays over Python lists for large-scale numerical operations.\n",
        "# >> Answer\n",
        "\n",
        "# NumPy arrays are faster than Python lists for large-scale numerical operations because:\n",
        "\n",
        "# 1. Vectorized Operations >>  NumPy allows you to perform operations on entire arrays at once, rather than iterating through elements one by one.\n",
        "# This is called vectorization and it significantly speeds up computations.\n",
        "\n",
        "# 2. Optimized Code >>  NumPy is written in C and uses optimized algorithms, which makes it much faster than Python lists for numerical operations.\n",
        "\n",
        "# 3. Memory Efficiency >>  NumPy arrays are more memory-efficient than Python lists because they store data in a contiguous block of memory.\n",
        "\n",
        "# 4. Specialized Functions >>  NumPy provides a wide range of specialized functions for numerical operations, such as linear algebra, statistics, and random number generation.\n",
        "# These functions are highly optimized and can perform calculations much faster than Python code.\n"
      ],
      "metadata": {
        "id": "P8izdszD8_SS"
      },
      "execution_count": 13,
      "outputs": []
    },
    {
      "cell_type": "code",
      "source": [
        "# >>> Question Number 7\n",
        "# Compare vstack() and hstack() functions in NumPy. Provide examples demonstrating their usage and output\n",
        "# >> Answer\n",
        "\n",
        "import numpy as np\n",
        "\n",
        "# vstack() (Vertical Stacking)\n",
        "# - Combines arrays vertically, stacking them on top of each other.\n",
        "\n",
        "arr1 = np.array([1, 2, 3])\n",
        "arr2 = np.array([4, 5, 6])\n",
        "\n",
        "vertical_stack = np.vstack((arr1, arr2))\n",
        "print(\"vstack Result:\\n\", vertical_stack)\n",
        "\n",
        "\n",
        "\n",
        "# hstack() (Horizontal Stacking)\n",
        "# - Combines arrays horizontally, placing them side by side.\n",
        "\n",
        "arr3 = np.array([1, 2, 3])\n",
        "arr4 = np.array([4, 5, 6])\n",
        "\n",
        "horizontal_stack = np.hstack((arr3, arr4))\n",
        "print(\"\\nhstack Result:\\n\", horizontal_stack)"
      ],
      "metadata": {
        "id": "VORlDjnv8_lA",
        "colab": {
          "base_uri": "https://localhost:8080/"
        },
        "outputId": "e4224f0a-b925-4533-8eff-7cf2c1d484cb"
      },
      "execution_count": 14,
      "outputs": [
        {
          "output_type": "stream",
          "name": "stdout",
          "text": [
            "vstack Result:\n",
            " [[1 2 3]\n",
            " [4 5 6]]\n",
            "\n",
            "hstack Result:\n",
            " [1 2 3 4 5 6]\n"
          ]
        }
      ]
    },
    {
      "cell_type": "code",
      "source": [
        "# >>> Question Number 8\n",
        "#  Explain the differences between fliplr() and flipud() methods in NumPy, including their effects on various array dimensions\n",
        "# >> Answer\n",
        "\n",
        "import numpy as np\n",
        "\n",
        "# Let's imagine you have a photo represented by a 2D array (like a grid of pixel colors).\n",
        "\n",
        "# fliplr() (Flip Left-Right)\n",
        "# It flips the array horizontally, like mirroring the photo from left to right.\n",
        "# in simple words we can say that the fliplr() makes a mirror image of your array from left to right.\n",
        "\n",
        "photo = np.array([[1, 2, 3],\n",
        "                  [4, 5, 6],\n",
        "                  [7, 8, 9]])\n",
        "\n",
        "flipped_left_right = np.fliplr(photo)\n",
        "\n",
        "print(\"Original Photo:\")\n",
        "print(photo)\n",
        "print(\"\\nFlipped Left-Right:\")\n",
        "print(flipped_left_right)\n",
        "\n",
        "# flipud() (Flip Up-Down)\n",
        "# It flips the array vertically, like turning the photo upside down.\n",
        "# in simple words we can say that flipud() makes a mirror image of your array from top to bottom.\n",
        "\n",
        "photo = np.array([[1, 2, 3],\n",
        "                  [4, 5, 6],\n",
        "                  [7, 8, 9]])\n",
        "\n",
        "flipped_up_down = np.flipud(photo)\n",
        "\n",
        "print(\"\\nOriginal Photo:\")\n",
        "print(photo)\n",
        "print(\"\\nFlipped Up-Down:\")\n",
        "print(flipped_up_down)"
      ],
      "metadata": {
        "id": "LRWRsjId8_4Q",
        "colab": {
          "base_uri": "https://localhost:8080/"
        },
        "outputId": "7b566062-a8df-43cd-b3de-8633bae28d1f"
      },
      "execution_count": 15,
      "outputs": [
        {
          "output_type": "stream",
          "name": "stdout",
          "text": [
            "Original Photo:\n",
            "[[1 2 3]\n",
            " [4 5 6]\n",
            " [7 8 9]]\n",
            "\n",
            "Flipped Left-Right:\n",
            "[[3 2 1]\n",
            " [6 5 4]\n",
            " [9 8 7]]\n",
            "\n",
            "Original Photo:\n",
            "[[1 2 3]\n",
            " [4 5 6]\n",
            " [7 8 9]]\n",
            "\n",
            "Flipped Up-Down:\n",
            "[[7 8 9]\n",
            " [4 5 6]\n",
            " [1 2 3]]\n"
          ]
        }
      ]
    },
    {
      "cell_type": "code",
      "source": [
        "# >>> Question Number 9\n",
        "#  Discuss the functionality of the array_split() method in NumPy. How does it handle uneven splits?\n",
        "# >> Answer\n",
        "\n",
        "import numpy as np\n",
        "\n",
        "# Example array\n",
        "arr = np.array([1, 2, 3, 4, 5, 6, 7, 8, 9])\n",
        "\n",
        "# Split the array into 3 equal parts (if possible)\n",
        "split_arr = np.array_split(arr, 3)\n",
        "print(\"Split array:\", split_arr)\n",
        "\n",
        "# Explanation -- >>\n",
        "# - array_split() is used to divide a NumPy array into multiple sub-arrays.\n",
        "# - It takes two arguments >> the array to be split and the number of splits you want.\n",
        "\n",
        "# Uneven Splits -- >>\n",
        "# - If the array cannot be divided evenly into the desired number of parts,\n",
        "#   array_split() will create sub-arrays with varying lengths.\n",
        "# - The last sub-array might have a different size to ensure all elements are included.\n",
        "\n",
        "\n",
        "# Example >>\n",
        "arr2 = np.array([1, 2, 3, 4, 5, 6, 7])\n",
        "split_arr2 = np.array_split(arr2, 3)\n",
        "print(\"Uneven split:\", split_arr2)"
      ],
      "metadata": {
        "id": "JDAJHG5c9AKe",
        "colab": {
          "base_uri": "https://localhost:8080/"
        },
        "outputId": "22e57dca-af56-461e-e303-d432513a2343"
      },
      "execution_count": 16,
      "outputs": [
        {
          "output_type": "stream",
          "name": "stdout",
          "text": [
            "Split array: [array([1, 2, 3]), array([4, 5, 6]), array([7, 8, 9])]\n",
            "Uneven split: [array([1, 2, 3]), array([4, 5]), array([6, 7])]\n"
          ]
        }
      ]
    },
    {
      "cell_type": "code",
      "source": [
        "# >>> Question Number 10\n",
        "#  Explain the concepts of vectorization and broadcasting in NumPy. How do they contribute to efficient array operations?\n",
        "# >> Answer\n",
        "\n",
        "\n",
        "# Vectorization and Broadcasting in NumPy >>\n",
        "\n",
        "# Vectorization >>\n",
        "# - Vectorization is the process of applying operations to entire arrays at once, without using explicit loops.\n",
        "# - This eliminates the need to iterate through individual elements, resulting in significantly faster and more efficient code.\n",
        "\n",
        "# Broadcasting >>\n",
        "# - Broadcasting is a set of rules that allow NumPy to perform operations on arrays of different shapes and sizes.\n",
        "# - It automatically adjusts the shapes of arrays to make them compatible for element-wise operations.\n",
        "\n",
        "# How they Contribute to Efficient Array Operations >>\n",
        "\n",
        "# 1. Speed and Performance -->\n",
        "#    - Both vectorization and broadcasting are implemented using optimized C code, making them much faster than Python loops.\n",
        "#    - This leads to significant performance gains, especially when working with large arrays.\n",
        "\n",
        "# 2. Readability and Conciseness -->\n",
        "#    - Vectorized operations and broadcasting enable you to write more concise and readable code.\n",
        "#    - You can express complex array manipulations in fewer lines, making your code easier to understand and maintain.\n",
        "\n",
        "# 3. Efficient Memory Usage -->\n",
        "#    - Vectorization and broadcasting can help reduce memory consumption by avoiding unnecessary array copies.\n",
        "#    - They allow you to manipulate data directly in memory, leading to more efficient resource utilization.\n",
        "\n",
        "\n",
        "# Example >>\n",
        "\n",
        "# Vectorization:\n",
        "\n",
        "import numpy as np\n",
        "\n",
        "arr1 = np.array([1, 2, 3])\n",
        "arr2 = np.array([4, 5, 6])\n",
        "\n",
        "# Element-wise addition using vectorization\n",
        "result = arr1 + arr2\n",
        "\n",
        "print(\"Vectorized addition:\", result)\n",
        "\n",
        "# Broadcasting:\n",
        "\n",
        "arr3 = np.array([[1, 2, 3], [4, 5, 6]])\n",
        "scalar = 2\n",
        "\n",
        "# Multiplying an array by a scalar using broadcasting\n",
        "result_broadcasting = arr3 * scalar\n",
        "\n",
        "print(\"Broadcasting:\", result_broadcasting)\n",
        "\n",
        "# In the vectorization example, NumPy applies the addition operation to the entire arrays without needing explicit loops.\n",
        "# In the broadcasting example, NumPy automatically expands the scalar value '2' to match the shape of 'arr3', allowing element-wise multiplication."
      ],
      "metadata": {
        "id": "lXESR0OF9AkB",
        "colab": {
          "base_uri": "https://localhost:8080/"
        },
        "outputId": "67cd16c4-a242-45b4-a6e5-07af1b3d1d4e"
      },
      "execution_count": 17,
      "outputs": [
        {
          "output_type": "stream",
          "name": "stdout",
          "text": [
            "Vectorized addition: [5 7 9]\n",
            "Broadcasting: [[ 2  4  6]\n",
            " [ 8 10 12]]\n"
          ]
        }
      ]
    },
    {
      "cell_type": "code",
      "source": [],
      "metadata": {
        "id": "YNN5j7UznFgm"
      },
      "execution_count": null,
      "outputs": []
    }
  ]
}